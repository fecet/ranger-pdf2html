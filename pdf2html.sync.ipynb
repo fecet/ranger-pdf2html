{
 "cells": [
  {
   "cell_type": "code",
   "execution_count": null,
   "id": "49c76f95",
   "metadata": {},
   "outputs": [],
   "source": [
    "# ---\n",
    "# jupyter:\n",
    "#   jupytext:\n",
    "#     text_representation:\n",
    "#       extension: .py\n",
    "#       format_name: percent\n",
    "#       format_version: '1.3'\n",
    "#       jupytext_version: 1.3.4\n",
    "#   kernelspec:\n",
    "#     display_name: Python 3\n",
    "#     language: python\n",
    "#     name: python3"
   ]
  },
  {
   "cell_type": "code",
   "execution_count": 5,
   "id": "a700121e",
   "metadata": {
    "ExecuteTime": {
     "end_time": "2022-03-28T15:53:15.505507Z",
     "start_time": "2022-03-28T15:53:15.502312Z"
    }
   },
   "outputs": [],
   "source": [
    "\n",
    "from bs4 import BeautifulSoup\n",
    "import argparse\n",
    "from pathlib import Path\n",
    "import subprocess"
   ]
  },
  {
   "cell_type": "code",
   "execution_count": null,
   "id": "4aaa038e",
   "metadata": {},
   "outputs": [],
   "source": [
    "\n",
    "\n",
    "parser = argparse.ArgumentParser()\n",
    "# parser.add_argument(\n",
    "#     \"--pdf-path\", \"-p\", dest=\"pdf_path\", help=\"pdf document path\", required=True\n",
    "# )\n",
    "parser.add_argument(\"pdf_path\", help=\"The PDF document file path to be converted\")\n",
    "parser.add_argument(\n",
    "    \"html_path\", nargs=\"?\", default=\"\", help=\"The HTML document file path to be stored\"\n",
    ")\n",
    "args = parser.parse_args()"
   ]
  },
  {
   "cell_type": "code",
   "execution_count": 6,
   "id": "611f848b",
   "metadata": {
    "ExecuteTime": {
     "end_time": "2022-03-28T15:53:42.097666Z",
     "start_time": "2022-03-28T15:53:39.763270Z"
    }
   },
   "outputs": [
    {
     "data": {
      "text/plain": [
       "CompletedProcess(args=['pdf2htmlEX', PosixPath('test.pdf')], returncode=0)"
      ]
     },
     "execution_count": 6,
     "metadata": {},
     "output_type": "execute_result"
    }
   ],
   "source": [
    "\n",
    "# Post process for the HTML file\n",
    "\n",
    "pdf_path = Path(args.pdf_path)  # pdf_path = Path(\"test.pdf\")\n",
    "html_path = (\n",
    "    Path(args.html_path)\n",
    "    if args.html_path\n",
    "    else pdf_path.parent / f\"{pdf_path.stem}.html\"\n",
    ")\n",
    "subprocess.run([\"pdf2htmlEX\", pdf_path, html_path])"
   ]
  },
  {
   "cell_type": "code",
   "execution_count": 7,
   "id": "1348409f",
   "metadata": {
    "ExecuteTime": {
     "end_time": "2022-03-28T15:56:20.262514Z",
     "start_time": "2022-03-28T15:56:18.832970Z"
    }
   },
   "outputs": [],
   "source": [
    "\n",
    "\n",
    "with open(html_path, \"r+\") as f:\n",
    "    soup = BeautifulSoup(f, \"html.parser\")\n",
    "    elements = soup.find_all(\"div\", id=\"sidebar\")\n",
    "    for element in elements:\n",
    "        element.decompose()\n",
    "\n",
    "    f.write(str(soup))"
   ]
  },
  {
   "cell_type": "code",
   "execution_count": null,
   "id": "b782659e",
   "metadata": {},
   "outputs": [],
   "source": [
    "\n",
    "subprocess.Popen([\"xdg-open\", pdf_path], start_new_session=True)\n",
    "subprocess.Popen([\"xdg-open\", html_path], start_new_session=True)"
   ]
  }
 ],
 "metadata": {
  "kernelspec": {
   "display_name": "Python 3 (ipykernel)",
   "language": "python",
   "name": "python3"
  },
  "language_info": {
   "codemirror_mode": {
    "name": "ipython",
    "version": 3
   },
   "file_extension": ".py",
   "mimetype": "text/x-python",
   "name": "python",
   "nbconvert_exporter": "python",
   "pygments_lexer": "ipython3",
   "version": "3.8.8"
  },
  "toc": {
   "base_numbering": 1,
   "nav_menu": {},
   "number_sections": true,
   "sideBar": true,
   "skip_h1_title": false,
   "title_cell": "Table of Contents",
   "title_sidebar": "Contents",
   "toc_cell": false,
   "toc_position": {},
   "toc_section_display": true,
   "toc_window_display": false
  },
  "varInspector": {
   "cols": {
    "lenName": 16,
    "lenType": 16,
    "lenVar": 40
   },
   "kernels_config": {
    "python": {
     "delete_cmd_postfix": "",
     "delete_cmd_prefix": "del ",
     "library": "var_list.py",
     "varRefreshCmd": "print(var_dic_list())"
    },
    "r": {
     "delete_cmd_postfix": ") ",
     "delete_cmd_prefix": "rm(",
     "library": "var_list.r",
     "varRefreshCmd": "cat(var_dic_list()) "
    }
   },
   "types_to_exclude": [
    "module",
    "function",
    "builtin_function_or_method",
    "instance",
    "_Feature"
   ],
   "window_display": false
  }
 },
 "nbformat": 4,
 "nbformat_minor": 5
}
